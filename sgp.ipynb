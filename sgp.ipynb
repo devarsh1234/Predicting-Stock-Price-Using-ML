{
  "nbformat": 4,
  "nbformat_minor": 0,
  "metadata": {
    "colab": {
      "name": "sgp.ipynb",
      "provenance": [],
      "collapsed_sections": [],
      "authorship_tag": "ABX9TyPcLxURVFwVh0dMZqHPRuJQ"
    },
    "kernelspec": {
      "name": "python3",
      "display_name": "Python 3"
    },
    "language_info": {
      "name": "python"
    }
  },
  "cells": [
    {
      "cell_type": "code",
      "execution_count": null,
      "metadata": {
        "colab": {
          "base_uri": "https://localhost:8080/"
        },
        "id": "mg8YikYW8ENA",
        "outputId": "566b43b5-7b01-4a89-baa7-f1a99c669f53"
      },
      "outputs": [
        {
          "output_type": "stream",
          "name": "stdout",
          "text": [
            "Requirement already satisfied: opencv-python in /usr/local/lib/python3.7/dist-packages (4.1.2.30)\n",
            "Requirement already satisfied: numpy>=1.14.5 in /usr/local/lib/python3.7/dist-packages (from opencv-python) (1.19.5)\n"
          ]
        }
      ],
      "source": [
        "pip install opencv-python"
      ]
    },
    {
      "cell_type": "code",
      "source": [
        "pip install pytesseract"
      ],
      "metadata": {
        "colab": {
          "base_uri": "https://localhost:8080/"
        },
        "id": "Qxh23oNt8eTD",
        "outputId": "c30055e6-201e-4a70-c57f-79be3138be55"
      },
      "execution_count": null,
      "outputs": [
        {
          "output_type": "stream",
          "name": "stdout",
          "text": [
            "Collecting pytesseract\n",
            "  Downloading pytesseract-0.3.8.tar.gz (14 kB)\n",
            "Requirement already satisfied: Pillow in /usr/local/lib/python3.7/dist-packages (from pytesseract) (7.1.2)\n",
            "Building wheels for collected packages: pytesseract\n",
            "  Building wheel for pytesseract (setup.py) ... \u001b[?25l\u001b[?25hdone\n",
            "  Created wheel for pytesseract: filename=pytesseract-0.3.8-py2.py3-none-any.whl size=14072 sha256=692c408bb80f20fafefa1de7763da33fdb71f338a2478bb942174cd328c94e6b\n",
            "  Stored in directory: /root/.cache/pip/wheels/a4/89/b9/3f11250225d0f90e5454fcc30fd1b7208db226850715aa9ace\n",
            "Successfully built pytesseract\n",
            "Installing collected packages: pytesseract\n",
            "Successfully installed pytesseract-0.3.8\n"
          ]
        }
      ]
    },
    {
      "cell_type": "code",
      "source": [
        "import numpy as np\n",
        "import cv2\n",
        "from PIL import Image\n",
        "import pytesseract as tess"
      ],
      "metadata": {
        "id": "IUk-2oHq8mvO"
      },
      "execution_count": null,
      "outputs": []
    },
    {
      "cell_type": "code",
      "source": [
        "def ratioCheck(area, width, height):\n",
        "    ratio = float(width) / float(height)\n",
        "    if ratio < 1:\n",
        "        ratio = 1 / ratio\n",
        "    if (area < 1063.62 or area > 73862.5) or (ratio < 3 or ratio > 6):\n",
        "        return False\n",
        "    return True"
      ],
      "metadata": {
        "id": "BT-Fg81-8xhr"
      },
      "execution_count": null,
      "outputs": []
    },
    {
      "cell_type": "code",
      "source": [
        "def isMaxWhite(plate):\n",
        "    avg = np.mean(plate)\n",
        "    if(avg>=115):\n",
        "        return True\n",
        "    else:\n",
        "         return False"
      ],
      "metadata": {
        "id": "HEbBmxxy81yz"
      },
      "execution_count": null,
      "outputs": []
    },
    {
      "cell_type": "code",
      "source": [
        "def ratio_and_rotation(rect):\n",
        "    (x, y), (width, height), rect_angle = rect\n",
        "\n",
        "    if(width>height):\n",
        "        angle = -rect_angle\n",
        "    else:\n",
        "        angle = 90 + rect_angle\n",
        "\n",
        "    if angle>15:\n",
        "         return False\n",
        "\n",
        "    if height == 0 or width == 0:\n",
        "        return False\n",
        "\n",
        "    area = height*width\n",
        "    if not ratioCheck(area,width,height):\n",
        "        return False\n",
        "    else:\n",
        "        return True"
      ],
      "metadata": {
        "id": "p3H1rdQW85D1"
      },
      "execution_count": null,
      "outputs": []
    }
  ]
}